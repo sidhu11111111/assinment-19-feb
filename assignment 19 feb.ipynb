{
 "cells": [
  {
   "cell_type": "markdown",
   "id": "d36074bb-f69c-4a52-82ca-c1adbf89e8d4",
   "metadata": {},
   "source": [
    "#QNO.1 ANS:\n",
    "FLASK:\n",
    "Flask is a lightweight web application framework for Python that allows developers to quickly build web applications. Flask is designed to be simple and easy to use, making it a popular choice for developers who want to get up and running quickly without having to learn a lot of new concepts or frameworks. \n",
    "\n",
    "#ADVANTAGE OF FLASK ARE:\n",
    "Lightweight and Flexible: Flask is a lightweight framework that is easy to learn and use. It does not impose a specific project structure, database or templating engine, which makes it flexible enough to be adapted to various use cases and project requirements.\n",
    "\n",
    "Easy to Set Up: Flask is very easy to set up and get started with. It has a small footprint and minimal dependencies, which makes it easy to install and run on any platform.\n",
    "\n",
    " Flask is a powerful and easy-to-use framework that is perfect for building web applications of all sizes and complexities. Its flexibility, ease of use, and active community make it an excellent choice for developers who want to get up and running quickly without sacrificing functionality or performance."
   ]
  },
  {
   "cell_type": "markdown",
   "id": "bd7ff21b-70a3-4fca-972b-e523295e38cc",
   "metadata": {},
   "source": [
    "#QNO.2 ANS:"
   ]
  },
  {
   "cell_type": "markdown",
   "id": "8eedb90a-90c5-45c5-9587-c69a9868912d",
   "metadata": {},
   "source": [
    "![image description](D:\\Screenshot(23).png)"
   ]
  },
  {
   "cell_type": "markdown",
   "id": "c1687ecf-13e5-4e4f-ace1-bb19f996dc6f",
   "metadata": {},
   "source": [
    "<img src=\"D:\\Screenshot(23).png\" alt=\"screenshot\" width=\"1000\" height=\"400\">\n"
   ]
  },
  {
   "cell_type": "markdown",
   "id": "7ebfe8f1-c54a-4063-9096-0f605062caa3",
   "metadata": {},
   "source": [
    "#QNO.3 ANS:\n",
    "In Flask, app routing refers to the process of mapping URLs or web addresses to specific functions or views within a Flask application.\n",
    "\n",
    "We use app routes in Flask to handle incoming requests and provide a response to the user. By mapping URLs to specific functions, we can create a modular and flexible web application that can handle a wide range of user requests. App routes are also essential for building a RESTful API, as they provide a mechanism for handling different HTTP methods (GET, POST, PUT, DELETE, etc.) and returning appropriate responses."
   ]
  },
  {
   "cell_type": "markdown",
   "id": "770119b6-3034-42c4-8dff-a30149d845f3",
   "metadata": {},
   "source": [
    "#QNO.4 ANS:\n",
    "![image description](\"C:\\Users\\kunda\\OneDrive\\Pictures\\Screenshots\\Screenshot (21).png\")"
   ]
  },
  {
   "cell_type": "code",
   "execution_count": null,
   "id": "b459be09-5946-4376-893a-4942119d763f",
   "metadata": {},
   "outputs": [],
   "source": [
    "#QNO.5 ANS:\n",
    "The url_for() function is used in Flask for URL building.\n",
    "\n"
   ]
  },
  {
   "cell_type": "markdown",
   "id": "2ca59ac8-b04f-4ff4-b28f-42724407ac2f",
   "metadata": {},
   "source": [
    "from flask import Flask, url_for\n",
    "\n",
    "app = Flask(__name__)\n",
    "\n",
    "@app.route('/')\n",
    "def index():\n",
    "    # generate a URL for the hello_world() function\n",
    "    url = url_for('hello_world')\n",
    "    return f'The URL for the hello_world() function is: {url}'\n",
    "\n",
    "@app.route('/hello')\n",
    "def hello_world():\n",
    "    return 'Hello, World!'\n",
    "\n",
    "if __name__ == '__main__':\n",
    "    app.run()\n"
   ]
  },
  {
   "cell_type": "code",
   "execution_count": null,
   "id": "5bd15d90-d939-4076-bc39-dc94ce7d5a0e",
   "metadata": {},
   "outputs": [],
   "source": []
  }
 ],
 "metadata": {
  "kernelspec": {
   "display_name": "Python 3 (ipykernel)",
   "language": "python",
   "name": "python3"
  },
  "language_info": {
   "codemirror_mode": {
    "name": "ipython",
    "version": 3
   },
   "file_extension": ".py",
   "mimetype": "text/x-python",
   "name": "python",
   "nbconvert_exporter": "python",
   "pygments_lexer": "ipython3",
   "version": "3.10.6"
  }
 },
 "nbformat": 4,
 "nbformat_minor": 5
}
